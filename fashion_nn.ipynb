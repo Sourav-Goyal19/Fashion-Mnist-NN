{
 "cells": [
  {
   "cell_type": "code",
   "execution_count": 1,
   "metadata": {},
   "outputs": [],
   "source": [
    "import torch\n",
    "import pandas as pd\n",
    "from sklearn.model_selection import train_test_split\n",
    "from torch.utils.data import Dataset, DataLoader\n",
    "import torch.nn as nn\n",
    "import torch.optim as optim\n",
    "import matplotlib.pyplot as plt\n"
   ]
  },
  {
   "cell_type": "code",
   "execution_count": null,
   "metadata": {},
   "outputs": [
    {
     "data": {
      "text/html": [
       "<div>\n",
       "<style scoped>\n",
       "    .dataframe tbody tr th:only-of-type {\n",
       "        vertical-align: middle;\n",
       "    }\n",
       "\n",
       "    .dataframe tbody tr th {\n",
       "        vertical-align: top;\n",
       "    }\n",
       "\n",
       "    .dataframe thead th {\n",
       "        text-align: right;\n",
       "    }\n",
       "</style>\n",
       "<table border=\"1\" class=\"dataframe\">\n",
       "  <thead>\n",
       "    <tr style=\"text-align: right;\">\n",
       "      <th></th>\n",
       "      <th>label</th>\n",
       "      <th>pixel1</th>\n",
       "      <th>pixel2</th>\n",
       "      <th>pixel3</th>\n",
       "      <th>pixel4</th>\n",
       "      <th>pixel5</th>\n",
       "      <th>pixel6</th>\n",
       "      <th>pixel7</th>\n",
       "      <th>pixel8</th>\n",
       "      <th>pixel9</th>\n",
       "      <th>...</th>\n",
       "      <th>pixel775</th>\n",
       "      <th>pixel776</th>\n",
       "      <th>pixel777</th>\n",
       "      <th>pixel778</th>\n",
       "      <th>pixel779</th>\n",
       "      <th>pixel780</th>\n",
       "      <th>pixel781</th>\n",
       "      <th>pixel782</th>\n",
       "      <th>pixel783</th>\n",
       "      <th>pixel784</th>\n",
       "    </tr>\n",
       "  </thead>\n",
       "  <tbody>\n",
       "    <tr>\n",
       "      <th>0</th>\n",
       "      <td>9</td>\n",
       "      <td>0</td>\n",
       "      <td>0</td>\n",
       "      <td>0</td>\n",
       "      <td>0</td>\n",
       "      <td>0</td>\n",
       "      <td>0</td>\n",
       "      <td>0</td>\n",
       "      <td>0</td>\n",
       "      <td>0</td>\n",
       "      <td>...</td>\n",
       "      <td>0</td>\n",
       "      <td>7</td>\n",
       "      <td>0</td>\n",
       "      <td>50</td>\n",
       "      <td>205</td>\n",
       "      <td>196</td>\n",
       "      <td>213</td>\n",
       "      <td>165</td>\n",
       "      <td>0</td>\n",
       "      <td>0</td>\n",
       "    </tr>\n",
       "    <tr>\n",
       "      <th>1</th>\n",
       "      <td>7</td>\n",
       "      <td>0</td>\n",
       "      <td>0</td>\n",
       "      <td>0</td>\n",
       "      <td>0</td>\n",
       "      <td>0</td>\n",
       "      <td>0</td>\n",
       "      <td>0</td>\n",
       "      <td>0</td>\n",
       "      <td>0</td>\n",
       "      <td>...</td>\n",
       "      <td>0</td>\n",
       "      <td>0</td>\n",
       "      <td>0</td>\n",
       "      <td>0</td>\n",
       "      <td>0</td>\n",
       "      <td>0</td>\n",
       "      <td>0</td>\n",
       "      <td>0</td>\n",
       "      <td>0</td>\n",
       "      <td>0</td>\n",
       "    </tr>\n",
       "    <tr>\n",
       "      <th>2</th>\n",
       "      <td>0</td>\n",
       "      <td>0</td>\n",
       "      <td>0</td>\n",
       "      <td>0</td>\n",
       "      <td>0</td>\n",
       "      <td>0</td>\n",
       "      <td>1</td>\n",
       "      <td>0</td>\n",
       "      <td>0</td>\n",
       "      <td>0</td>\n",
       "      <td>...</td>\n",
       "      <td>142</td>\n",
       "      <td>142</td>\n",
       "      <td>142</td>\n",
       "      <td>21</td>\n",
       "      <td>0</td>\n",
       "      <td>3</td>\n",
       "      <td>0</td>\n",
       "      <td>0</td>\n",
       "      <td>0</td>\n",
       "      <td>0</td>\n",
       "    </tr>\n",
       "    <tr>\n",
       "      <th>3</th>\n",
       "      <td>8</td>\n",
       "      <td>0</td>\n",
       "      <td>0</td>\n",
       "      <td>0</td>\n",
       "      <td>0</td>\n",
       "      <td>0</td>\n",
       "      <td>0</td>\n",
       "      <td>0</td>\n",
       "      <td>0</td>\n",
       "      <td>0</td>\n",
       "      <td>...</td>\n",
       "      <td>0</td>\n",
       "      <td>0</td>\n",
       "      <td>0</td>\n",
       "      <td>0</td>\n",
       "      <td>0</td>\n",
       "      <td>0</td>\n",
       "      <td>0</td>\n",
       "      <td>0</td>\n",
       "      <td>0</td>\n",
       "      <td>0</td>\n",
       "    </tr>\n",
       "    <tr>\n",
       "      <th>4</th>\n",
       "      <td>8</td>\n",
       "      <td>0</td>\n",
       "      <td>0</td>\n",
       "      <td>0</td>\n",
       "      <td>0</td>\n",
       "      <td>0</td>\n",
       "      <td>0</td>\n",
       "      <td>0</td>\n",
       "      <td>0</td>\n",
       "      <td>0</td>\n",
       "      <td>...</td>\n",
       "      <td>213</td>\n",
       "      <td>203</td>\n",
       "      <td>174</td>\n",
       "      <td>151</td>\n",
       "      <td>188</td>\n",
       "      <td>10</td>\n",
       "      <td>0</td>\n",
       "      <td>0</td>\n",
       "      <td>0</td>\n",
       "      <td>0</td>\n",
       "    </tr>\n",
       "  </tbody>\n",
       "</table>\n",
       "<p>5 rows × 785 columns</p>\n",
       "</div>"
      ],
      "text/plain": [
       "   label  pixel1  pixel2  pixel3  pixel4  pixel5  pixel6  pixel7  pixel8  \\\n",
       "0      9       0       0       0       0       0       0       0       0   \n",
       "1      7       0       0       0       0       0       0       0       0   \n",
       "2      0       0       0       0       0       0       1       0       0   \n",
       "3      8       0       0       0       0       0       0       0       0   \n",
       "4      8       0       0       0       0       0       0       0       0   \n",
       "\n",
       "   pixel9  ...  pixel775  pixel776  pixel777  pixel778  pixel779  pixel780  \\\n",
       "0       0  ...         0         7         0        50       205       196   \n",
       "1       0  ...         0         0         0         0         0         0   \n",
       "2       0  ...       142       142       142        21         0         3   \n",
       "3       0  ...         0         0         0         0         0         0   \n",
       "4       0  ...       213       203       174       151       188        10   \n",
       "\n",
       "   pixel781  pixel782  pixel783  pixel784  \n",
       "0       213       165         0         0  \n",
       "1         0         0         0         0  \n",
       "2         0         0         0         0  \n",
       "3         0         0         0         0  \n",
       "4         0         0         0         0  \n",
       "\n",
       "[5 rows x 785 columns]"
      ]
     },
     "execution_count": 2,
     "metadata": {},
     "output_type": "execute_result"
    }
   ],
   "source": [
    "df = pd.read_csv(\"fmnist_small.csv\")\n",
    "df.head()\n"
   ]
  },
  {
   "cell_type": "code",
   "execution_count": 3,
   "metadata": {},
   "outputs": [
    {
     "data": {
      "image/png": "[encoded data removed]",
      "text/plain": [
       "<Figure size 1000x1000 with 16 Axes>"
      ]
     },
     "metadata": {},
     "output_type": "display_data"
    }
   ],
   "source": [
    "fig, axes = plt.subplots(4, 4, figsize=(10, 10))\n",
    "fig.suptitle(\"First 16 images\", fontsize=16)\n",
    "\n",
    "for i, ax in enumerate(axes.flat):\n",
    "    img = df.iloc[i, 1:].values.reshape(28, 28)\n",
    "    ax.imshow(img)\n",
    "    ax.axis(\"off\")\n",
    "    ax.set_title(f\"Label: {df.iloc[i,0]}\")\n",
    "\n",
    "plt.tight_layout(rect=[0, 0, 1, 0.96])\n",
    "plt.show()\n"
   ]
  },
  {
   "cell_type": "code",
   "execution_count": 4,
   "metadata": {},
   "outputs": [],
   "source": [
    "X = df.iloc[:, 1:]\n",
    "y = df.iloc[:, 0]\n"
   ]
  },
  {
   "cell_type": "code",
   "execution_count": 5,
   "metadata": {},
   "outputs": [],
   "source": [
    "X_train, X_test, y_train, y_test = train_test_split(\n",
    "    X, y, test_size=0.2, random_state=42\n",
    ")\n"
   ]
  },
  {
   "cell_type": "code",
   "execution_count": 6,
   "metadata": {},
   "outputs": [],
   "source": [
    "X_train = X_train / 255.0\n",
    "X_test = X_test / 255.0\n"
   ]
  },
  {
   "cell_type": "code",
   "execution_count": 7,
   "metadata": {},
   "outputs": [],
   "source": [
    "class CustomDataset(Dataset):\n",
    "\n",
    "    def __init__(self, features, labels):\n",
    "\n",
    "        self.features = torch.tensor(features.values, dtype=torch.float32)\n",
    "\n",
    "        self.labels = torch.tensor(labels.values, dtype=torch.long)\n",
    "\n",
    "    def __len__(self):\n",
    "        return len(self.features)\n",
    "\n",
    "    def __getitem__(self, index):\n",
    "\n",
    "        return self.features[index], self.labels[index]\n"
   ]
  },
  {
   "cell_type": "code",
   "execution_count": 11,
   "metadata": {},
   "outputs": [
    {
     "data": {
      "text/plain": [
       "4800"
      ]
     },
     "execution_count": 11,
     "metadata": {},
     "output_type": "execute_result"
    }
   ],
   "source": [
    "train_dataset = CustomDataset(X_train, y_train)\n",
    "# print(len(train_dataset))\n",
    "len(train_dataset)\n"
   ]
  },
  {
   "cell_type": "code",
   "execution_count": 10,
   "metadata": {},
   "outputs": [
    {
     "data": {
      "text/plain": [
       "1200"
      ]
     },
     "execution_count": 10,
     "metadata": {},
     "output_type": "execute_result"
    }
   ],
   "source": [
    "test_dataset = CustomDataset(X_test, y_test)\n",
    "len(test_dataset)\n"
   ]
  },
  {
   "cell_type": "code",
   "execution_count": 11,
   "metadata": {},
   "outputs": [],
   "source": [
    "train_loader = DataLoader(train_dataset, batch_size=32, shuffle=True)\n",
    "test_loader = DataLoader(test_dataset, batch_size=32, shuffle=False)\n"
   ]
  },
  {
   "cell_type": "code",
   "execution_count": 12,
   "metadata": {},
   "outputs": [],
   "source": [
    "class MyNN(nn.Module):\n",
    "    def __init__(self, num_features):\n",
    "        super().__init__()\n",
    "        self.model = nn.Sequential(\n",
    "            nn.Linear(num_features, 128),\n",
    "            nn.ReLU(),\n",
    "            nn.Linear(128, 64),\n",
    "            nn.ReLU(),\n",
    "            nn.Linear(64, 10),\n",
    "        )\n",
    "        self.loss_function = nn.CrossEntropyLoss()\n",
    "\n",
    "    def forward(self, x):\n",
    "        return self.model(x)\n"
   ]
  },
  {
   "cell_type": "code",
   "execution_count": 13,
   "metadata": {},
   "outputs": [],
   "source": [
    "learning_rate = 0.1\n",
    "epochs = 100\n"
   ]
  },
  {
   "cell_type": "code",
   "execution_count": 14,
   "metadata": {},
   "outputs": [],
   "source": [
    "model = MyNN(X_train.shape[1])\n",
    "criterion = nn.CrossEntropyLoss()\n"
   ]
  },
  {
   "cell_type": "code",
   "execution_count": 15,
   "metadata": {},
   "outputs": [
    {
     "name": "stdout",
     "output_type": "stream",
     "text": [
      "<generator object Module.parameters at 0x0000028517DA9540>\n"
     ]
    }
   ],
   "source": [
    "print(model.parameters())\n"
   ]
  },
  {
   "cell_type": "markdown",
   "metadata": {},
   "source": []
  },
  {
   "cell_type": "code",
   "execution_count": 16,
   "metadata": {},
   "outputs": [],
   "source": [
    "optimizer = optim.SGD(model.parameters(), lr=learning_rate)\n"
   ]
  },
  {
   "cell_type": "code",
   "execution_count": null,
   "metadata": {},
   "outputs": [
    {
     "name": "stdout",
     "output_type": "stream",
     "text": [
      "Epoch: 1/100...  Loss: 0.006103...\n",
      "Epoch: 11/100...  Loss: 0.001461...\n",
      "Epoch: 21/100...  Loss: 0.001885...\n",
      "Epoch: 31/100...  Loss: 0.001011...\n",
      "Epoch: 41/100...  Loss: 0.000261...\n",
      "Epoch: 51/100...  Loss: 0.001030...\n",
      "Epoch: 61/100...  Loss: 0.000762...\n",
      "Epoch: 71/100...  Loss: 0.000020...\n",
      "Epoch: 81/100...  Loss: 0.000318...\n",
      "Epoch: 91/100...  Loss: 0.000212...\n"
     ]
    }
   ],
   "source": [
    "for epoch in range(epochs):\n",
    "    total_epoch_loss = 0\n",
    "\n",
    "    for batch_features, batch_labels in train_loader:\n",
    "        outputs = model(batch_features)\n",
    "\n",
    "        loss = criterion(outputs, batch_labels)\n",
    "\n",
    "        optimizer.zero_grad()\n",
    "\n",
    "        loss.backward()\n",
    "\n",
    "        optimizer.step()\n",
    "\n",
    "    total_epoch_loss += loss.item()\n",
    "    avg_epoch_loss = total_epoch_loss / len(train_loader)\n",
    "\n",
    "    if epoch % 10 == 0:\n",
    "        print(\n",
    "            \"Epoch: {}/{}... \".format(epoch, epochs),\n",
    "            \"Loss: {:.6f}...\".format(avg_epoch_loss),\n",
    "        )\n",
    "        # \"Val Loss: {:.6f}\".format(evaluate(model, val_loader, criterion)));\n"
   ]
  },
  {
   "cell_type": "code",
   "execution_count": 18,
   "metadata": {},
   "outputs": [
    {
     "data": {
      "text/plain": [
       "MyNN(\n",
       "  (model): Sequential(\n",
       "    (0): Linear(in_features=784, out_features=128, bias=True)\n",
       "    (1): ReLU()\n",
       "    (2): Linear(in_features=128, out_features=64, bias=True)\n",
       "    (3): ReLU()\n",
       "    (4): Linear(in_features=64, out_features=10, bias=True)\n",
       "  )\n",
       "  (loss_function): CrossEntropyLoss()\n",
       ")"
      ]
     },
     "execution_count": 18,
     "metadata": {},
     "output_type": "execute_result"
    }
   ],
   "source": [
    "model.eval()\n"
   ]
  },
  {
   "cell_type": "code",
   "execution_count": 19,
   "metadata": {},
   "outputs": [
    {
     "name": "stdout",
     "output_type": "stream",
     "text": [
      "tensor([7, 0, 5, 6, 3, 2, 5, 4, 9, 7, 0, 6, 4, 0, 5, 1, 7, 7, 6, 0, 4, 0, 2, 0,\n",
      "        9, 6, 9, 4, 0, 1, 5, 6])\n",
      "tensor([4, 8, 1, 6, 9, 3, 9, 6, 8, 5, 3, 1, 2, 3, 8, 9, 9, 9, 5, 0, 4, 0, 0, 4,\n",
      "        1, 4, 8, 4, 2, 3, 0, 8])\n",
      "tensor([0, 1, 4, 1, 4, 7, 6, 8, 2, 1, 8, 2, 3, 2, 4, 9, 1, 3, 7, 9, 4, 6, 4, 7,\n",
      "        0, 4, 1, 3, 6, 1, 2, 6])\n",
      "tensor([8, 3, 7, 1, 6, 5, 4, 2, 8, 7, 8, 5, 6, 5, 2, 3, 7, 9, 9, 7, 1, 6, 6, 6,\n",
      "        1, 7, 1, 9, 7, 2, 0, 5])\n",
      "tensor([6, 3, 5, 7, 9, 1, 9, 1, 5, 7, 1, 1, 5, 0, 1, 1, 9, 8, 0, 3, 3, 9, 8, 9,\n",
      "        4, 4, 2, 6, 2, 6, 5, 2])\n",
      "tensor([3, 4, 5, 4, 8, 4, 3, 8, 5, 9, 2, 8, 6, 6, 1, 5, 9, 9, 8, 5, 9, 2, 4, 5,\n",
      "        0, 9, 1, 2, 4, 1, 4, 6])\n",
      "tensor([6, 3, 6, 8, 1, 3, 3, 6, 2, 6, 1, 2, 7, 7, 0, 9, 1, 3, 6, 7, 9, 6, 2, 0,\n",
      "        3, 0, 9, 7, 1, 9, 0, 3])\n",
      "tensor([7, 1, 6, 9, 9, 0, 5, 1, 7, 0, 8, 2, 7, 6, 9, 3, 3, 7, 6, 2, 3, 5, 9, 4,\n",
      "        4, 0, 4, 3, 1, 0, 2, 9])\n",
      "tensor([4, 8, 0, 0, 4, 4, 1, 8, 0, 0, 0, 1, 1, 1, 6, 8, 0, 0, 1, 2, 5, 0, 6, 3,\n",
      "        4, 3, 7, 2, 6, 7, 9, 6])\n",
      "tensor([3, 8, 2, 9, 1, 8, 3, 4, 2, 7, 9, 0, 8, 4, 8, 3, 1, 8, 7, 4, 0, 9, 8, 6,\n",
      "        5, 6, 9, 6, 8, 5, 2, 0])\n",
      "tensor([4, 0, 3, 3, 5, 1, 5, 3, 6, 2, 4, 5, 7, 8, 3, 2, 8, 2, 6, 1, 3, 0, 7, 3,\n",
      "        8, 6, 6, 1, 5, 7, 8, 7])\n",
      "tensor([0, 2, 1, 4, 1, 4, 0, 8, 7, 3, 1, 6, 3, 3, 8, 4, 8, 0, 8, 3, 7, 0, 5, 7,\n",
      "        4, 8, 9, 2, 7, 8, 7, 0])\n",
      "tensor([0, 7, 5, 4, 7, 8, 8, 1, 1, 7, 3, 0, 3, 6, 0, 7, 1, 9, 7, 2, 4, 9, 8, 9,\n",
      "        8, 0, 4, 9, 3, 3, 6, 5])\n",
      "tensor([5, 5, 4, 0, 1, 6, 1, 1, 8, 4, 0, 5, 2, 5, 2, 4, 8, 0, 7, 6, 6, 4, 3, 0,\n",
      "        8, 8, 2, 2, 7, 4, 5, 8])\n",
      "tensor([2, 3, 3, 1, 9, 4, 4, 7, 4, 1, 8, 8, 0, 1, 4, 9, 0, 4, 9, 0, 5, 6, 8, 0,\n",
      "        0, 1, 0, 0, 9, 0, 2, 1])\n",
      "tensor([0, 4, 6, 9, 3, 5, 0, 4, 0, 2, 2, 6, 8, 3, 7, 6, 6, 5, 4, 4, 3, 6, 6, 5,\n",
      "        8, 5, 9, 2, 0, 7, 6, 5])\n",
      "tensor([3, 0, 0, 4, 4, 9, 6, 0, 7, 8, 1, 3, 0, 6, 7, 5, 9, 6, 5, 4, 2, 9, 8, 7,\n",
      "        4, 2, 4, 4, 7, 4, 4, 6])\n",
      "tensor([6, 4, 5, 0, 3, 4, 7, 2, 4, 5, 8, 3, 0, 8, 9, 0, 5, 2, 4, 4, 8, 2, 6, 1,\n",
      "        9, 7, 7, 6, 7, 7, 1, 7])\n",
      "tensor([7, 0, 9, 4, 2, 2, 5, 4, 9, 7, 0, 7, 4, 6, 5, 1, 5, 7, 1, 8, 1, 5, 7, 3,\n",
      "        3, 5, 3, 6, 5, 6, 3, 3])\n",
      "tensor([2, 5, 6, 9, 0, 2, 3, 0, 1, 4, 6, 1, 1, 0, 0, 8, 5, 5, 3, 3, 3, 2, 5, 6,\n",
      "        7, 4, 1, 3, 1, 0, 0, 2])\n",
      "tensor([6, 3, 8, 0, 8, 5, 3, 2, 5, 6, 9, 0, 6, 0, 7, 8, 7, 6, 8, 2, 8, 6, 1, 7,\n",
      "        4, 0, 9, 1, 5, 9, 4, 1])\n",
      "tensor([8, 5, 4, 6, 6, 9, 2, 6, 8, 7, 6, 2, 3, 6, 3, 6, 1, 6, 5, 4, 6, 1, 9, 1,\n",
      "        9, 6, 8, 6, 3, 9, 6, 8])\n",
      "tensor([6, 2, 7, 1, 7, 6, 2, 4, 3, 0, 6, 3, 2, 4, 2, 5, 7, 1, 0, 5, 9, 8, 2, 0,\n",
      "        3, 3, 3, 4, 9, 2, 4, 8])\n",
      "tensor([1, 3, 2, 8, 1, 9, 4, 4, 8, 8, 4, 0, 6, 9, 9, 7, 1, 0, 7, 4, 5, 9, 1, 5,\n",
      "        7, 6, 8, 1, 3, 1, 2, 2])\n",
      "tensor([0, 8, 8, 0, 2, 1, 9, 3, 8, 1, 3, 6, 8, 1, 9, 7, 0, 0, 8, 0, 6, 9, 9, 6,\n",
      "        1, 9, 0, 7, 9, 8, 2, 8])\n",
      "tensor([5, 4, 4, 1, 0, 2, 6, 6, 6, 3, 3, 9, 4, 4, 8, 7, 2, 4, 3, 0, 4, 9, 1, 4,\n",
      "        0, 8, 1, 7, 7, 3, 2, 5])\n",
      "tensor([2, 3, 6, 4, 9, 1, 7, 8, 6, 5, 2, 8, 7, 3, 4, 3, 1, 2, 8, 8, 8, 7, 2, 8,\n",
      "        6, 6, 3, 7, 4, 1, 4, 4])\n",
      "tensor([1, 2, 4, 1, 6, 6, 0, 9, 2, 7, 1, 0, 1, 4, 4, 6, 7, 0, 3, 4, 2, 3, 5, 3,\n",
      "        3, 6, 7, 7, 6, 6, 2, 4])\n",
      "tensor([6, 2, 1, 9, 7, 5, 7, 6, 5, 2, 9, 0, 3, 4, 9, 2, 4, 6, 6, 2, 3, 4, 4, 4,\n",
      "        5, 1, 8, 8, 0, 6, 7, 3])\n",
      "tensor([6, 2, 2, 6, 8, 6, 8, 5, 1, 8, 6, 0, 3, 1, 4, 2, 5, 0, 1, 0, 2, 8, 0, 2,\n",
      "        1, 4, 1, 0, 3, 6, 0, 8])\n",
      "tensor([0, 3, 0, 7, 2, 4, 0, 9, 7, 0, 6, 3, 1, 2, 7, 6, 6, 8, 7, 2, 1, 0, 2, 4,\n",
      "        8, 3, 6, 6, 8, 0, 2, 3])\n",
      "tensor([6, 3, 6, 7, 2, 1, 5, 4, 4, 4, 2, 4, 3, 6, 2, 0, 7, 3, 5, 2, 9, 5, 0, 4,\n",
      "        6, 4, 1, 6, 1, 7, 9, 5])\n",
      "tensor([4, 0, 0, 3, 5, 3, 6, 3, 9, 2, 7, 8, 5, 5, 8, 6, 0, 0, 8, 8, 9, 2, 6, 9,\n",
      "        5, 6, 3, 5, 9, 6, 5, 6])\n",
      "tensor([6, 9, 7, 0, 0, 6, 7, 0, 9, 1, 0, 3, 5, 3, 1, 5, 0, 8, 6, 1, 9, 1, 8, 6,\n",
      "        5, 6, 9, 9, 8, 6, 9, 3])\n",
      "tensor([8, 4, 1, 2, 4, 9, 2, 0, 1, 5, 8, 6, 5, 1, 0, 2, 8, 2, 7, 5, 3, 1, 2, 5,\n",
      "        7, 8, 3, 4, 7, 4, 1, 8])\n",
      "tensor([7, 3, 0, 6, 5, 6, 1, 6, 8, 1, 0, 0, 0, 9, 6, 2, 5, 0, 6, 6, 9, 8, 8, 3,\n",
      "        5, 9, 3, 6, 5, 4, 8, 5])\n",
      "tensor([0, 2, 3, 3, 4, 8, 2, 7, 2, 8, 3, 5, 7, 6, 4, 4, 2, 1, 0, 5, 6, 3, 0, 3,\n",
      "        6, 2, 0, 3, 2, 9, 5, 0])\n",
      "tensor([6, 1, 0, 7, 8, 4, 6, 3, 6, 7, 6, 7, 5, 7, 1, 2])\n",
      "Accuracy of the network on the 1200 test images: 83 %\n"
     ]
    }
   ],
   "source": [
    "total = 0\n",
    "correct = 0\n",
    "\n",
    "with torch.no_grad():\n",
    "    for batch_features, batch_labels in test_loader:\n",
    "        outputs = model(batch_features)\n",
    "        _, predicted = torch.max(outputs, 1)\n",
    "        print(predicted)\n",
    "        total += batch_labels.shape[0]\n",
    "        correct += (predicted == batch_labels).sum().item()\n",
    "    pass\n",
    "\n",
    "print(\n",
    "    \"Accuracy of the network on the 1200 test images: %d %%\" % (100 * correct / total)\n",
    ")\n"
   ]
  },
  {
   "cell_type": "code",
   "execution_count": null,
   "metadata": {},
   "outputs": [],
   "source": []
  }
 ],
 "metadata": {
  "kernelspec": {
   "display_name": ".venv",
   "language": "python",
   "name": "python3"
  },
  "language_info": {
   "codemirror_mode": {
    "name": "ipython",
    "version": 3
   },
   "file_extension": ".py",
   "mimetype": "text/x-python",
   "name": "python",
   "nbconvert_exporter": "python",
   "pygments_lexer": "ipython3",
   "version": "3.12.5"
  }
 },
 "nbformat": 4,
 "nbformat_minor": 2
}
