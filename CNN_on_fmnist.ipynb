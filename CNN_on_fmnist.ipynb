{
  "nbformat": 4,
  "nbformat_minor": 0,
  "metadata": {
    "colab": {
      "provenance": [],
      "gpuType": "T4"
    },
    "kernelspec": {
      "name": "python3",
      "display_name": "Python 3"
    },
    "language_info": {
      "name": "python"
    },
    "accelerator": "GPU"
  },
  "cells": [
    {
      "cell_type": "code",
      "execution_count": 31,
      "metadata": {
        "colab": {
          "base_uri": "https://localhost:8080/"
        },
        "id": "xTbxDdnctFEB",
        "outputId": "32bfb421-f39f-4a01-ae64-960ceaba6c43"
      },
      "outputs": [
        {
          "output_type": "stream",
          "name": "stdout",
          "text": [
            "Drive already mounted at /content/drive; to attempt to forcibly remount, call drive.mount(\"/content/drive\", force_remount=True).\n"
          ]
        }
      ],
      "source": [
        "import torch\n",
        "import torch.nn as nn\n",
        "import pandas as pd\n",
        "from sklearn.model_selection import train_test_split\n",
        "from torch.utils.data import Dataset, DataLoader\n",
        "import torch.optim as optim\n",
        "from google.colab import drive\n",
        "drive.mount('/content/drive',force_remount=False)"
      ]
    },
    {
      "cell_type": "code",
      "source": [
        "device = ('cuda' if torch.cuda.is_available() else 'cpu');\n",
        "device"
      ],
      "metadata": {
        "colab": {
          "base_uri": "https://localhost:8080/",
          "height": 36
        },
        "id": "8sZnkUOVttiJ",
        "outputId": "8f37defe-508f-4d10-f843-25523432681d"
      },
      "execution_count": 32,
      "outputs": [
        {
          "output_type": "execute_result",
          "data": {
            "text/plain": [
              "'cuda'"
            ],
            "application/vnd.google.colaboratory.intrinsic+json": {
              "type": "string"
            }
          },
          "metadata": {},
          "execution_count": 32
        }
      ]
    },
    {
      "cell_type": "code",
      "source": [
        "df = pd.read_csv(\"/content/drive/MyDrive/Datasets/fashion-mnist.csv\");\n",
        "df.shape"
      ],
      "metadata": {
        "colab": {
          "base_uri": "https://localhost:8080/"
        },
        "id": "mM-gc68kuWP_",
        "outputId": "d788536a-0f01-4694-cfb0-9e4807178d8f"
      },
      "execution_count": 33,
      "outputs": [
        {
          "output_type": "execute_result",
          "data": {
            "text/plain": [
              "(10000, 785)"
            ]
          },
          "metadata": {},
          "execution_count": 33
        }
      ]
    },
    {
      "cell_type": "code",
      "source": [
        "X_train,X_test, y_train, y_test = train_test_split(df.iloc[:, 1:], df.iloc[:,0], test_size=0.2, random_state=42);\n",
        "print(len(X_train));"
      ],
      "metadata": {
        "colab": {
          "base_uri": "https://localhost:8080/"
        },
        "id": "fUvEyQo_uesu",
        "outputId": "838b6b6c-ccff-4674-838f-74ab26c41e25"
      },
      "execution_count": 34,
      "outputs": [
        {
          "output_type": "stream",
          "name": "stdout",
          "text": [
            "8000\n"
          ]
        }
      ]
    },
    {
      "cell_type": "code",
      "source": [
        "X_train = X_train / 255.0\n",
        "X_test = X_test / 255.0"
      ],
      "metadata": {
        "id": "I5-S8edyu3z5"
      },
      "execution_count": 35,
      "outputs": []
    },
    {
      "cell_type": "code",
      "source": [
        "class CustomDataset(Dataset):\n",
        "  def __init__(self, features, labels):\n",
        "    self.features = torch.tensor(features.values, dtype=torch.float32).reshape(-1,1,28,28)\n",
        "    self.labels = torch.tensor(labels.values, dtype=torch.long);\n",
        "\n",
        "  def __len__(self):\n",
        "    return len(self.features);\n",
        "\n",
        "  def __getitem__(self, index):\n",
        "    return self.features[index], self.labels[index];"
      ],
      "metadata": {
        "id": "6gwqNUSyvKKr"
      },
      "execution_count": 43,
      "outputs": []
    },
    {
      "cell_type": "code",
      "source": [
        "train_dataset = CustomDataset(X_train, y_train);\n",
        "test_dataset = CustomDataset(X_test, y_test);"
      ],
      "metadata": {
        "id": "CIBWXolVyQ1t"
      },
      "execution_count": 44,
      "outputs": []
    },
    {
      "cell_type": "code",
      "source": [
        "train_loader = DataLoader(train_dataset, batch_size=32, shuffle=True,pin_memory=True)\n",
        "test_loader = DataLoader(test_dataset, batch_size=32, shuffle=False,pin_memory=True)"
      ],
      "metadata": {
        "id": "0k25C8BIyZtF"
      },
      "execution_count": 45,
      "outputs": []
    },
    {
      "cell_type": "code",
      "source": [
        "class MyNN(nn.Module):\n",
        "  def __init__(self, input_channels):\n",
        "    super().__init__();\n",
        "\n",
        "    self.features = nn.Sequential(\n",
        "        nn.Conv2d(input_channels, 32, kernel_size=3, padding=\"same\"),\n",
        "        nn.BatchNorm2d(32),\n",
        "        nn.ReLU(),\n",
        "        nn.MaxPool2d(kernel_size=2, stride=2),\n",
        "\n",
        "        nn.Conv2d(32, 64, kernel_size=3, padding=\"same\"),\n",
        "        nn.BatchNorm2d(64),\n",
        "        nn.ReLU(),\n",
        "        nn.MaxPool2d(kernel_size=2, stride=2),\n",
        "    )\n",
        "\n",
        "    self.classifier = nn.Sequential(\n",
        "        nn.Flatten(),\n",
        "        nn.Linear(64*7*7, 128),\n",
        "        nn.ReLU(),\n",
        "        nn.Dropout(p=0.4),\n",
        "\n",
        "        nn.Linear(128, 64),\n",
        "        nn.ReLU(),\n",
        "        nn.Dropout(p=0.4),\n",
        "        nn.Linear(64,10)\n",
        "    )\n",
        "\n",
        "  def forward(self, features):\n",
        "    x = self.features(features);\n",
        "    x = self.classifier(x);\n",
        "    return x"
      ],
      "metadata": {
        "id": "ZmSuZeenys77"
      },
      "execution_count": 47,
      "outputs": []
    },
    {
      "cell_type": "code",
      "source": [
        "epochs = 100\n",
        "learning_rate = 0.001;\n"
      ],
      "metadata": {
        "id": "2lw3g_Y00Jla"
      },
      "execution_count": 40,
      "outputs": []
    },
    {
      "cell_type": "code",
      "source": [
        "model = MyNN(1)\n",
        "model.to(device);\n",
        "criterion = nn.CrossEntropyLoss();\n",
        "optimizer = optim.SGD(model.parameters(), lr=learning_rate, weight_decay=1e-4);"
      ],
      "metadata": {
        "id": "rnKFkhtF0WnC"
      },
      "execution_count": 49,
      "outputs": []
    },
    {
      "cell_type": "code",
      "source": [
        "for epoch in range(epochs):\n",
        "  total_epoch_loss = 0;\n",
        "  for batch_features, batch_labels in train_loader:\n",
        "    batch_features, batch_labels = batch_features.to(device), batch_labels.to(device)\n",
        "    output = model(batch_features);\n",
        "    loss = criterion(output, batch_labels)\n",
        "    optimizer.zero_grad();\n",
        "    loss.backward();\n",
        "    optimizer.step();\n",
        "    total_epoch_loss += loss.item();\n",
        "\n",
        "  avg_epoch_loss = total_epoch_loss/len(train_loader);\n",
        "  if epoch % 10 == 0:\n",
        "    print(\n",
        "          \"Epoch: {}/{}... \".format(epoch, epochs),\n",
        "          \"Loss: {:.6f}...\".format(avg_epoch_loss),\n",
        "        )"
      ],
      "metadata": {
        "colab": {
          "base_uri": "https://localhost:8080/"
        },
        "id": "vJDY2sAF06Aj",
        "outputId": "0204105f-c264-4fde-ec6f-2a5d518433ef"
      },
      "execution_count": 50,
      "outputs": [
        {
          "output_type": "stream",
          "name": "stdout",
          "text": [
            "Epoch: 0/100...  Loss: 2.168212...\n",
            "Epoch: 10/100...  Loss: 0.862879...\n",
            "Epoch: 20/100...  Loss: 0.665744...\n",
            "Epoch: 30/100...  Loss: 0.583819...\n",
            "Epoch: 40/100...  Loss: 0.519021...\n",
            "Epoch: 50/100...  Loss: 0.456632...\n",
            "Epoch: 60/100...  Loss: 0.414393...\n",
            "Epoch: 70/100...  Loss: 0.378830...\n",
            "Epoch: 80/100...  Loss: 0.357849...\n",
            "Epoch: 90/100...  Loss: 0.330178...\n"
          ]
        }
      ]
    },
    {
      "cell_type": "code",
      "source": [
        "model.eval()"
      ],
      "metadata": {
        "colab": {
          "base_uri": "https://localhost:8080/"
        },
        "id": "YbwewPcm39_b",
        "outputId": "081cdcbf-2db8-46d7-ba34-68840188de8c"
      },
      "execution_count": 51,
      "outputs": [
        {
          "output_type": "execute_result",
          "data": {
            "text/plain": [
              "MyNN(\n",
              "  (features): Sequential(\n",
              "    (0): Conv2d(1, 32, kernel_size=(3, 3), stride=(1, 1), padding=same)\n",
              "    (1): BatchNorm2d(32, eps=1e-05, momentum=0.1, affine=True, track_running_stats=True)\n",
              "    (2): ReLU()\n",
              "    (3): MaxPool2d(kernel_size=2, stride=2, padding=0, dilation=1, ceil_mode=False)\n",
              "    (4): Conv2d(32, 64, kernel_size=(3, 3), stride=(1, 1), padding=same)\n",
              "    (5): BatchNorm2d(64, eps=1e-05, momentum=0.1, affine=True, track_running_stats=True)\n",
              "    (6): ReLU()\n",
              "    (7): MaxPool2d(kernel_size=2, stride=2, padding=0, dilation=1, ceil_mode=False)\n",
              "  )\n",
              "  (classifier): Sequential(\n",
              "    (0): Flatten(start_dim=1, end_dim=-1)\n",
              "    (1): Linear(in_features=3136, out_features=128, bias=True)\n",
              "    (2): ReLU()\n",
              "    (3): Dropout(p=0.4, inplace=False)\n",
              "    (4): Linear(in_features=128, out_features=64, bias=True)\n",
              "    (5): ReLU()\n",
              "    (6): Dropout(p=0.4, inplace=False)\n",
              "    (7): Linear(in_features=64, out_features=10, bias=True)\n",
              "  )\n",
              ")"
            ]
          },
          "metadata": {},
          "execution_count": 51
        }
      ]
    },
    {
      "cell_type": "code",
      "source": [
        "total = 0\n",
        "correct = 0\n",
        "\n",
        "with torch.no_grad():\n",
        "  for batch_features, batch_labels in test_loader:\n",
        "    batch_features, batch_labels = batch_features.to(device), batch_labels.to(device)\n",
        "    outputs = model(batch_features);\n",
        "    _, predicted = torch.max(outputs,1);\n",
        "    total += batch_labels.shape[0];\n",
        "    correct += (predicted == batch_labels).sum().item();\n",
        "  print(f\"Accuracy of the convolutional neural network on the {X_test.shape[0]} test images: %d %%\" % (100 * correct / total))"
      ],
      "metadata": {
        "colab": {
          "base_uri": "https://localhost:8080/"
        },
        "id": "T0AHjlJF3a_K",
        "outputId": "0b36e70f-499d-480b-92a6-2b7754df9441"
      },
      "execution_count": 53,
      "outputs": [
        {
          "output_type": "stream",
          "name": "stdout",
          "text": [
            "Accuracy of the convolutional neural network on the 2000 test images: 88 %\n"
          ]
        }
      ]
    },
    {
      "cell_type": "code",
      "source": [
        "total = 0\n",
        "correct = 0\n",
        "\n",
        "with torch.no_grad():\n",
        "  for batch_features, batch_labels in train_loader:\n",
        "    batch_features, batch_labels = batch_features.to(device), batch_labels.to(device)\n",
        "    outputs = model(batch_features);\n",
        "    _, predicted = torch.max(outputs,1);\n",
        "    total += batch_labels.shape[0];\n",
        "    correct += (predicted == batch_labels).sum().item();\n",
        "  print(f\"Accuracy of the convolutional neural network on the {X_train.shape[0]} test images: %d %%\" % (100 * correct / total))"
      ],
      "metadata": {
        "colab": {
          "base_uri": "https://localhost:8080/"
        },
        "id": "9LQfc-XD5EZ_",
        "outputId": "29e19acb-1632-43e4-985a-4f83e2a989ce"
      },
      "execution_count": 55,
      "outputs": [
        {
          "output_type": "stream",
          "name": "stdout",
          "text": [
            "Accuracy of the convolutional neural network on the 8000 test images: 93 %\n"
          ]
        }
      ]
    },
    {
      "cell_type": "code",
      "source": [],
      "metadata": {
        "id": "jRduhyD-5tol"
      },
      "execution_count": null,
      "outputs": []
    }
  ]
}