{
  "cells": [
    {
      "cell_type": "code",
      "execution_count": 34,
      "metadata": {
        "id": "RKYWVAvboKPL"
      },
      "outputs": [],
      "source": [
        "import torch\n",
        "from torch.utils.data import Dataset, DataLoader\n",
        "from sklearn.model_selection import train_test_split\n",
        "import pandas as pd\n",
        "import torch.nn as nn\n",
        "import torch.optim as optim\n"
      ]
    },
    {
      "cell_type": "code",
      "execution_count": 35,
      "metadata": {
        "colab": {
          "base_uri": "https://localhost:8080/"
        },
        "id": "rkB2MfF2E0fk",
        "outputId": "6a434978-1835-401a-a96c-a5a0a3172bd6"
      },
      "outputs": [
        {
          "name": "stdout",
          "output_type": "stream",
          "text": [
            "Using device:  cuda\n"
          ]
        }
      ],
      "source": [
        "device = torch.device(\"cuda\" if torch.cuda.is_available() else \"cpu\")\n",
        "print(\"Using device: \", device)\n"
      ]
    },
    {
      "cell_type": "code",
      "execution_count": 36,
      "metadata": {
        "colab": {
          "base_uri": "https://localhost:8080/"
        },
        "id": "7EvGgWcQooNR",
        "outputId": "a7a047a8-0e21-4a64-ae53-a114f27061a3"
      },
      "outputs": [
        {
          "name": "stdout",
          "output_type": "stream",
          "text": [
            "   label  pixel1  pixel2  pixel3  pixel4  pixel5  pixel6  pixel7  pixel8  \\\n",
            "0      0       0       0       0       0       0       0       0       9   \n",
            "1      1       0       0       0       0       0       0       0       0   \n",
            "2      2       0       0       0       0       0       0      14      53   \n",
            "3      2       0       0       0       0       0       0       0       0   \n",
            "4      3       0       0       0       0       0       0       0       0   \n",
            "\n",
            "   pixel9  ...  pixel775  pixel776  pixel777  pixel778  pixel779  pixel780  \\\n",
            "0       8  ...       103        87        56         0         0         0   \n",
            "1       0  ...        34         0         0         0         0         0   \n",
            "2      99  ...         0         0         0         0        63        53   \n",
            "3       0  ...       137       126       140         0       133       224   \n",
            "4       0  ...         0         0         0         0         0         0   \n",
            "\n",
            "   pixel781  pixel782  pixel783  pixel784  \n",
            "0         0         0         0         0  \n",
            "1         0         0         0         0  \n",
            "2        31         0         0         0  \n",
            "3       222        56         0         0  \n",
            "4         0         0         0         0  \n",
            "\n",
            "[5 rows x 785 columns]\n"
          ]
        },
        {
          "data": {
            "text/plain": [
              "(10000, 785)"
            ]
          },
          "execution_count": 36,
          "metadata": {},
          "output_type": "execute_result"
        }
      ],
      "source": [
        "df = pd.read_csv(\"fashion-mnist.csv\")\n",
        "print(df.head())\n",
        "df.shape\n"
      ]
    },
    {
      "cell_type": "code",
      "execution_count": 37,
      "metadata": {
        "colab": {
          "base_uri": "https://localhost:8080/"
        },
        "id": "Pa3q_L4YpROn",
        "outputId": "2bb4ebf6-4b5e-48ec-af3f-d2b343affa0f"
      },
      "outputs": [
        {
          "data": {
            "text/plain": [
              "(2000, 784)"
            ]
          },
          "execution_count": 37,
          "metadata": {},
          "output_type": "execute_result"
        }
      ],
      "source": [
        "X_train, X_test, y_train, y_test = train_test_split(\n",
        "    df.iloc[:, 1:], df.iloc[:, 0], test_size=0.2, random_state=42\n",
        ")\n",
        "X_test.shape\n"
      ]
    },
    {
      "cell_type": "code",
      "execution_count": 38,
      "metadata": {
        "id": "Z7dYnrbFpjGg"
      },
      "outputs": [],
      "source": [
        "X_train = X_train / 255.0\n",
        "X_test = X_test / 255.0\n"
      ]
    },
    {
      "cell_type": "code",
      "execution_count": 39,
      "metadata": {
        "id": "Mgm5TtowppjI"
      },
      "outputs": [],
      "source": [
        "class MyCustomDataset(Dataset):\n",
        "    def __init__(self, features, labels):\n",
        "        self.features = torch.tensor(features.values, dtype=torch.float32)\n",
        "        self.labels = torch.tensor(labels.values, dtype=torch.long)\n",
        "\n",
        "    def __len__(self):\n",
        "        return len(self.features)\n",
        "\n",
        "    def __getitem__(self, index):\n",
        "        return self.features[index], self.labels[index]\n"
      ]
    },
    {
      "cell_type": "code",
      "execution_count": 40,
      "metadata": {
        "colab": {
          "base_uri": "https://localhost:8080/"
        },
        "id": "qQUHLtJAqerQ",
        "outputId": "d54b1b0b-4443-4691-9140-2cd9212b89b0"
      },
      "outputs": [
        {
          "data": {
            "text/plain": [
              "8000"
            ]
          },
          "execution_count": 40,
          "metadata": {},
          "output_type": "execute_result"
        }
      ],
      "source": [
        "train_dataset = MyCustomDataset(X_train, y_train)\n",
        "test_dataset = MyCustomDataset(X_test, y_test)\n",
        "len(train_dataset)\n",
        "# len(test_dataset)\n"
      ]
    },
    {
      "cell_type": "code",
      "execution_count": 41,
      "metadata": {
        "id": "pRwDU-SUrdcn"
      },
      "outputs": [],
      "source": [
        "class MyNN(nn.Module):\n",
        "    def __init__(self, input_dim, output_dim, num_hidden_layers, neurons_per_layer, dr):\n",
        "        super().__init__()\n",
        "\n",
        "        layers = []\n",
        "\n",
        "        for i in range(num_hidden_layers):\n",
        "            layers.append(nn.Linear(input_dim, neurons_per_layer))\n",
        "            layers.append(nn.BatchNorm1d(neurons_per_layer))\n",
        "            layers.append(nn.ReLU())\n",
        "            layers.append(nn.Dropout(p=dr))\n",
        "            input_dim = neurons_per_layer\n",
        "\n",
        "        layers.append(nn.Linear(neurons_per_layer, output_dim))\n",
        "\n",
        "        self.model = nn.Sequential(*layers)\n",
        "\n",
        "    def forward(self, x):\n",
        "        return self.model(x)\n"
      ]
    },
    {
      "cell_type": "code",
      "execution_count": 48,
      "metadata": {
        "id": "aLQHs8r81u6f"
      },
      "outputs": [],
      "source": [
        "def objective(trial):\n",
        "    num_hidden_layers = trial.suggest_int(\"num_hidden_layers\", 1, 5)\n",
        "    neurons_per_layer = trial.suggest_int(\"neurons_per_layer\", 8, 128, step=8)\n",
        "    epochs = trial.suggest_int(\"epochs\", 10, 50, step=10)\n",
        "    learning_rate = trial.suggest_float(\"learning_rate\", 1e-5, 1e-1, log=True)\n",
        "    dropout_rate = trial.suggest_float(\"dropout_rate\", 0.1, 0.5, step=0.1)\n",
        "    batch_size = trial.suggest_categorical(\"batch_size\", [16, 32, 64, 128])\n",
        "    optimizer_name = trial.suggest_categorical(\"optimizer\", [\"Adam\", \"SGD\", \"RMSprop\"])\n",
        "    weight_decay = trial.suggest_float(\"weight_decay\", 1e-5, 1e-3, log=True)\n",
        "\n",
        "    input_dim = 784\n",
        "    output_dim = 10\n",
        "\n",
        "    model = MyNN(\n",
        "        input_dim, output_dim, num_hidden_layers, neurons_per_layer, dr=dropout_rate\n",
        "    )\n",
        "    model = model.to(device)\n",
        "\n",
        "    train_loader = DataLoader(\n",
        "        train_dataset, batch_size=batch_size, shuffle=True, pin_memory=True\n",
        "    )\n",
        "    test_loader = DataLoader(\n",
        "        test_dataset, batch_size=batch_size, shuffle=False, pin_memory=True\n",
        "    )\n",
        "\n",
        "    criterion = nn.CrossEntropyLoss()\n",
        "\n",
        "    if optimizer_name == \"Adam\":\n",
        "        optimizer = optim.Adam(\n",
        "            model.parameters(), lr=learning_rate, weight_decay=weight_decay\n",
        "        )\n",
        "    elif optimizer_name == \"SGD\":\n",
        "        optimizer = optim.SGD(\n",
        "            model.parameters(), lr=learning_rate, weight_decay=weight_decay\n",
        "        )\n",
        "    else:\n",
        "        optimizer = optim.RMSprop(\n",
        "            model.parameters(), lr=learning_rate, weight_decay=weight_decay\n",
        "        )\n",
        "\n",
        "    for epoch in range(epochs):\n",
        "        for batch_features, batch_labels in train_loader:\n",
        "            batch_features, batch_labels = batch_features.to(device), batch_labels.to(\n",
        "                device\n",
        "            )\n",
        "            outputs = model(batch_features)\n",
        "            loss = criterion(outputs, batch_labels)\n",
        "\n",
        "            optimizer.zero_grad()\n",
        "\n",
        "            loss.backward()\n",
        "\n",
        "            optimizer.step()\n",
        "\n",
        "    model.eval()\n",
        "\n",
        "    total = 0\n",
        "    correct = 0\n",
        "\n",
        "    with torch.no_grad():\n",
        "        for batch_features, batch_labels in test_loader:\n",
        "            batch_features, batch_labels = batch_features.to(device), batch_labels.to(\n",
        "                device\n",
        "            )\n",
        "            outputs = model(batch_features)\n",
        "            _, predicted = torch.max(outputs, 1)\n",
        "            total += batch_labels.shape[0]\n",
        "            correct += (predicted == batch_labels).sum().item()\n",
        "\n",
        "        accuracy = correct / total\n",
        "\n",
        "    return accuracy\n"
      ]
    },
    {
      "cell_type": "code",
      "execution_count": 44,
      "metadata": {
        "colab": {
          "base_uri": "https://localhost:8080/"
        },
        "id": "IjObh1VRsgoV",
        "outputId": "a7f307ee-f2d8-4826-9794-7e1be47f0aaf"
      },
      "outputs": [
        {
          "name": "stdout",
          "output_type": "stream",
          "text": [
            "Requirement already satisfied: optuna in /usr/local/lib/python3.11/dist-packages (4.2.0)\n",
            "Requirement already satisfied: alembic>=1.5.0 in /usr/local/lib/python3.11/dist-packages (from optuna) (1.14.1)\n",
            "Requirement already satisfied: colorlog in /usr/local/lib/python3.11/dist-packages (from optuna) (6.9.0)\n",
            "Requirement already satisfied: numpy in /usr/local/lib/python3.11/dist-packages (from optuna) (1.26.4)\n",
            "Requirement already satisfied: packaging>=20.0 in /usr/local/lib/python3.11/dist-packages (from optuna) (24.2)\n",
            "Requirement already satisfied: sqlalchemy>=1.4.2 in /usr/local/lib/python3.11/dist-packages (from optuna) (2.0.37)\n",
            "Requirement already satisfied: tqdm in /usr/local/lib/python3.11/dist-packages (from optuna) (4.67.1)\n",
            "Requirement already satisfied: PyYAML in /usr/local/lib/python3.11/dist-packages (from optuna) (6.0.2)\n",
            "Requirement already satisfied: Mako in /usr/local/lib/python3.11/dist-packages (from alembic>=1.5.0->optuna) (1.3.8)\n",
            "Requirement already satisfied: typing-extensions>=4 in /usr/local/lib/python3.11/dist-packages (from alembic>=1.5.0->optuna) (4.12.2)\n",
            "Requirement already satisfied: greenlet!=0.4.17 in /usr/local/lib/python3.11/dist-packages (from sqlalchemy>=1.4.2->optuna) (3.1.1)\n",
            "Requirement already satisfied: MarkupSafe>=0.9.2 in /usr/local/lib/python3.11/dist-packages (from Mako->alembic>=1.5.0->optuna) (3.0.2)\n"
          ]
        }
      ],
      "source": [
        "!pip install optuna\n"
      ]
    },
    {
      "cell_type": "code",
      "execution_count": 45,
      "metadata": {
        "id": "5KIj18Mh3h3t"
      },
      "outputs": [],
      "source": [
        "import optuna\n"
      ]
    },
    {
      "cell_type": "code",
      "execution_count": 46,
      "metadata": {
        "colab": {
          "base_uri": "https://localhost:8080/"
        },
        "id": "sAAZNDBp3mZC",
        "outputId": "c6963d7d-5ff6-4427-cce4-8a764c6dd235"
      },
      "outputs": [
        {
          "name": "stderr",
          "output_type": "stream",
          "text": [
            "[I 2025-01-23 08:20:13,924] A new study created in memory with name: no-name-5eaab247-5d2b-43e7-bdba-d2067a10529c\n"
          ]
        }
      ],
      "source": [
        "study = optuna.create_study(direction=\"maximize\")\n"
      ]
    },
    {
      "cell_type": "code",
      "execution_count": 50,
      "metadata": {
        "colab": {
          "base_uri": "https://localhost:8080/"
        },
        "id": "nGeZoEB54Gm7",
        "outputId": "03dd0906-7c84-4456-e526-5a44c19e4aed"
      },
      "outputs": [
        {
          "name": "stderr",
          "output_type": "stream",
          "text": [
            "[I 2025-01-23 08:28:24,507] Trial 11 finished with value: 0.7895 and parameters: {'num_hidden_layers': 2, 'neurons_per_layer': 128, 'epochs': 50, 'learning_rate': 0.005811675114447413, 'dropout_rate': 0.1, 'batch_size': 64, 'optimizer': 'RMSprop', 'weight_decay': 2.636676440542228e-05}. Best is trial 6 with value: 0.859.\n",
            "[I 2025-01-23 08:28:36,649] Trial 12 finished with value: 0.8425 and parameters: {'num_hidden_layers': 2, 'neurons_per_layer': 128, 'epochs': 10, 'learning_rate': 0.00014477499372671362, 'dropout_rate': 0.5, 'batch_size': 16, 'optimizer': 'RMSprop', 'weight_decay': 7.618639803736071e-05}. Best is trial 6 with value: 0.859.\n",
            "[I 2025-01-23 08:28:48,491] Trial 13 finished with value: 0.838 and parameters: {'num_hidden_layers': 2, 'neurons_per_layer': 112, 'epochs': 30, 'learning_rate': 0.0024571196479046937, 'dropout_rate': 0.4, 'batch_size': 64, 'optimizer': 'RMSprop', 'weight_decay': 0.00011264365899983148}. Best is trial 6 with value: 0.859.\n",
            "[I 2025-01-23 08:29:25,255] Trial 14 finished with value: 0.79 and parameters: {'num_hidden_layers': 5, 'neurons_per_layer': 104, 'epochs': 20, 'learning_rate': 0.00012608662308148392, 'dropout_rate': 0.5, 'batch_size': 16, 'optimizer': 'RMSprop', 'weight_decay': 1.2527385544332058e-05}. Best is trial 6 with value: 0.859.\n",
            "[I 2025-01-23 08:29:47,617] Trial 15 finished with value: 0.6525 and parameters: {'num_hidden_layers': 1, 'neurons_per_layer': 8, 'epochs': 40, 'learning_rate': 1.3102961420581699e-05, 'dropout_rate': 0.4, 'batch_size': 32, 'optimizer': 'RMSprop', 'weight_decay': 5.883217031903186e-05}. Best is trial 6 with value: 0.859.\n",
            "[I 2025-01-23 08:29:52,462] Trial 16 finished with value: 0.838 and parameters: {'num_hidden_layers': 4, 'neurons_per_layer': 112, 'epochs': 10, 'learning_rate': 0.002222328546649128, 'dropout_rate': 0.4, 'batch_size': 64, 'optimizer': 'RMSprop', 'weight_decay': 2.7483633099699548e-05}. Best is trial 6 with value: 0.859.\n",
            "[I 2025-01-23 08:30:12,781] Trial 17 finished with value: 0.784 and parameters: {'num_hidden_layers': 2, 'neurons_per_layer': 96, 'epochs': 30, 'learning_rate': 0.013590168141209405, 'dropout_rate': 0.5, 'batch_size': 32, 'optimizer': 'RMSprop', 'weight_decay': 0.00020616089146322785}. Best is trial 6 with value: 0.859.\n",
            "[I 2025-01-23 08:30:18,887] Trial 18 finished with value: 0.833 and parameters: {'num_hidden_layers': 1, 'neurons_per_layer': 128, 'epochs': 20, 'learning_rate': 0.0016436163034743096, 'dropout_rate': 0.4, 'batch_size': 64, 'optimizer': 'SGD', 'weight_decay': 2.1020935099863527e-05}. Best is trial 6 with value: 0.859.\n",
            "[I 2025-01-23 08:31:40,225] Trial 19 finished with value: 0.8545 and parameters: {'num_hidden_layers': 4, 'neurons_per_layer': 112, 'epochs': 50, 'learning_rate': 0.0004634187684255993, 'dropout_rate': 0.2, 'batch_size': 16, 'optimizer': 'RMSprop', 'weight_decay': 8.578415957139061e-05}. Best is trial 6 with value: 0.859.\n",
            "[I 2025-01-23 08:31:55,967] Trial 20 finished with value: 0.846 and parameters: {'num_hidden_layers': 2, 'neurons_per_layer': 64, 'epochs': 40, 'learning_rate': 0.00027077135334006603, 'dropout_rate': 0.5, 'batch_size': 64, 'optimizer': 'RMSprop', 'weight_decay': 3.73549696871354e-05}. Best is trial 6 with value: 0.859.\n"
          ]
        }
      ],
      "source": [
        "study.optimize(objective, n_trials=10)\n"
      ]
    },
    {
      "cell_type": "code",
      "execution_count": 54,
      "metadata": {
        "colab": {
          "base_uri": "https://localhost:8080/"
        },
        "id": "ylLJFabK4Ky2",
        "outputId": "9c6dbd2f-7a75-49a1-e51d-1b569f62ed8b"
      },
      "outputs": [
        {
          "data": {
            "text/plain": [
              "FrozenTrial(number=6, state=1, values=[0.859], datetime_start=datetime.datetime(2025, 1, 23, 8, 26, 19, 126479), datetime_complete=datetime.datetime(2025, 1, 23, 8, 26, 37, 654361), params={'num_hidden_layers': 3, 'neurons_per_layer': 128, 'epochs': 40, 'learning_rate': 0.0002899126597413497, 'dropout_rate': 0.4, 'batch_size': 64, 'optimizer': 'RMSprop', 'weight_decay': 2.0673201499782324e-05}, user_attrs={}, system_attrs={}, intermediate_values={}, distributions={'num_hidden_layers': IntDistribution(high=5, log=False, low=1, step=1), 'neurons_per_layer': IntDistribution(high=128, log=False, low=8, step=8), 'epochs': IntDistribution(high=50, log=False, low=10, step=10), 'learning_rate': FloatDistribution(high=0.1, log=True, low=1e-05, step=None), 'dropout_rate': FloatDistribution(high=0.5, log=False, low=0.1, step=0.1), 'batch_size': CategoricalDistribution(choices=(16, 32, 64, 128)), 'optimizer': CategoricalDistribution(choices=('Adam', 'SGD', 'RMSprop')), 'weight_decay': FloatDistribution(high=0.001, log=True, low=1e-05, step=None)}, trial_id=6, value=None)"
            ]
          },
          "execution_count": 54,
          "metadata": {},
          "output_type": "execute_result"
        }
      ],
      "source": [
        "study.best_trial\n"
      ]
    },
    {
      "cell_type": "code",
      "execution_count": 52,
      "metadata": {
        "colab": {
          "base_uri": "https://localhost:8080/"
        },
        "id": "Qng_j_gAIgZ_",
        "outputId": "1204f190-ae5a-4946-8acc-12371057fea0"
      },
      "outputs": [
        {
          "data": {
            "text/plain": [
              "0.859"
            ]
          },
          "execution_count": 52,
          "metadata": {},
          "output_type": "execute_result"
        }
      ],
      "source": [
        "study.best_value\n"
      ]
    },
    {
      "cell_type": "code",
      "execution_count": 53,
      "metadata": {
        "colab": {
          "base_uri": "https://localhost:8080/"
        },
        "id": "lUHNeULcKxEK",
        "outputId": "d5ccda6a-86d4-4136-a66a-b4375244f28f"
      },
      "outputs": [
        {
          "data": {
            "text/plain": [
              "{'num_hidden_layers': 3,\n",
              " 'neurons_per_layer': 128,\n",
              " 'epochs': 40,\n",
              " 'learning_rate': 0.0002899126597413497,\n",
              " 'dropout_rate': 0.4,\n",
              " 'batch_size': 64,\n",
              " 'optimizer': 'RMSprop',\n",
              " 'weight_decay': 2.0673201499782324e-05}"
            ]
          },
          "execution_count": 53,
          "metadata": {},
          "output_type": "execute_result"
        }
      ],
      "source": [
        "study.best_params\n"
      ]
    },
    {
      "cell_type": "code",
      "execution_count": null,
      "metadata": {
        "id": "385zyFmnKzNr"
      },
      "outputs": [],
      "source": []
    }
  ],
  "metadata": {
    "accelerator": "GPU",
    "colab": {
      "gpuType": "T4",
      "provenance": []
    },
    "kernelspec": {
      "display_name": "Python 3",
      "name": "python3"
    },
    "language_info": {
      "name": "python"
    }
  },
  "nbformat": 4,
  "nbformat_minor": 0
}
