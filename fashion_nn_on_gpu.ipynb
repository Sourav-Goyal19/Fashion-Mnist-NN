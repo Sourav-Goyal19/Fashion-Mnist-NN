{
  "cells": [
    {
      "cell_type": "code",
      "execution_count": 1,
      "metadata": {
        "id": "RKYWVAvboKPL"
      },
      "outputs": [],
      "source": [
        "import torch\n",
        "from torch.utils.data import Dataset, DataLoader\n",
        "from sklearn.model_selection import train_test_split\n",
        "import pandas as pd\n",
        "import torch.nn as nn\n",
        "import torch.optim as optim\n"
      ]
    },
    {
      "cell_type": "code",
      "execution_count": 2,
      "metadata": {
        "colab": {
          "base_uri": "https://localhost:8080/"
        },
        "id": "rkB2MfF2E0fk",
        "outputId": "1948353a-9e61-4c20-f6f2-446ad964c2a3"
      },
      "outputs": [
        {
          "name": "stdout",
          "output_type": "stream",
          "text": [
            "Using device:  cpu\n"
          ]
        }
      ],
      "source": [
        "device = torch.device(\"cuda\" if torch.cuda.is_available() else \"cpu\")\n",
        "print(\"Using device: \", device)\n"
      ]
    },
    {
      "cell_type": "code",
      "execution_count": 5,
      "metadata": {
        "colab": {
          "base_uri": "https://localhost:8080/"
        },
        "id": "7EvGgWcQooNR",
        "outputId": "3055d715-69dc-4277-df9f-4913b53aadd4"
      },
      "outputs": [
        {
          "data": {
            "text/plain": [
              "(10000, 785)"
            ]
          },
          "execution_count": 5,
          "metadata": {},
          "output_type": "execute_result"
        }
      ],
      "source": [
        "df = pd.read_csv(\"fashion-mnist.csv\")\n",
        "df.shape\n"
      ]
    },
    {
      "cell_type": "code",
      "execution_count": 6,
      "metadata": {
        "colab": {
          "base_uri": "https://localhost:8080/"
        },
        "id": "Pa3q_L4YpROn",
        "outputId": "3f46c580-0bad-4896-8c55-74025b8ec4f8"
      },
      "outputs": [
        {
          "data": {
            "text/plain": [
              "(2000, 784)"
            ]
          },
          "execution_count": 6,
          "metadata": {},
          "output_type": "execute_result"
        }
      ],
      "source": [
        "X_train, X_test, y_train, y_test = train_test_split(\n",
        "    df.iloc[:, 1:], df.iloc[:, 0], test_size=0.2, random_state=42\n",
        ")\n",
        "\n",
        "\n",
        "X_test.shape\n"
      ]
    },
    {
      "cell_type": "code",
      "execution_count": 7,
      "metadata": {
        "id": "Z7dYnrbFpjGg"
      },
      "outputs": [],
      "source": [
        "X_train = X_train / 255.0\n",
        "X_test = X_test / 255.0\n"
      ]
    },
    {
      "cell_type": "code",
      "execution_count": 8,
      "metadata": {
        "id": "Mgm5TtowppjI"
      },
      "outputs": [],
      "source": [
        "class MyCustomDataset(Dataset):\n",
        "    def __init__(self, features, labels):\n",
        "        self.features = torch.tensor(features.values, dtype=torch.float32)\n",
        "        self.labels = torch.tensor(labels.values, dtype=torch.long)\n",
        "\n",
        "    def __len__(self):\n",
        "        return len(self.features)\n",
        "\n",
        "    def __getitem__(self, index):\n",
        "        return self.features[index], self.labels[index]\n"
      ]
    },
    {
      "cell_type": "code",
      "execution_count": 9,
      "metadata": {
        "colab": {
          "base_uri": "https://localhost:8080/"
        },
        "id": "qQUHLtJAqerQ",
        "outputId": "fae88bf8-418b-4dce-dce2-95ce43044bbd"
      },
      "outputs": [
        {
          "data": {
            "text/plain": [
              "8000"
            ]
          },
          "execution_count": 9,
          "metadata": {},
          "output_type": "execute_result"
        }
      ],
      "source": [
        "train_dataset = MyCustomDataset(X_train, y_train)\n",
        "test_dataset = MyCustomDataset(X_test, y_test)\n",
        "len(train_dataset)\n",
        "# len(test_dataset)\n"
      ]
    },
    {
      "cell_type": "code",
      "execution_count": 13,
      "metadata": {
        "id": "3DJv43gwqpxn"
      },
      "outputs": [],
      "source": [
        "train_loader = DataLoader(train_dataset, batch_size=64, shuffle=True, pin_memory=True)\n",
        "test_loader = DataLoader(test_dataset, batch_size=64, shuffle=False, pin_memory=True)\n"
      ]
    },
    {
      "cell_type": "code",
      "execution_count": 14,
      "metadata": {
        "id": "pRwDU-SUrdcn"
      },
      "outputs": [],
      "source": [
        "class MyNN(nn.Module):\n",
        "    def __init__(self, num_features):\n",
        "        super().__init__()\n",
        "        self.model = nn.Sequential(\n",
        "            nn.Linear(num_features, 128),\n",
        "            nn.ReLU(),\n",
        "            nn.Linear(128, 64),\n",
        "            nn.ReLU(),\n",
        "            nn.Linear(64, 10),\n",
        "        )\n",
        "\n",
        "    def forward(self, x):\n",
        "        return self.model(x)\n"
      ]
    },
    {
      "cell_type": "code",
      "execution_count": 15,
      "metadata": {
        "id": "mB_vFRtrtFwy"
      },
      "outputs": [],
      "source": [
        "learning_rate = 0.1\n",
        "epochs = 100\n"
      ]
    },
    {
      "cell_type": "code",
      "execution_count": 16,
      "metadata": {
        "id": "7_vk7B94s4Kq"
      },
      "outputs": [],
      "source": [
        "model = MyNN(X_train.shape[1])\n",
        "model = model.to(device)\n",
        "criterion = nn.CrossEntropyLoss()\n",
        "optimizer = optim.SGD(model.parameters(), lr=learning_rate)\n"
      ]
    },
    {
      "cell_type": "code",
      "execution_count": 17,
      "metadata": {
        "colab": {
          "base_uri": "https://localhost:8080/"
        },
        "id": "fkH8HrHptqVI",
        "outputId": "ac235bf4-c2cd-4584-9ede-49776bc599b8"
      },
      "outputs": [
        {
          "name": "stdout",
          "output_type": "stream",
          "text": [
            "Epoch: 0/100...  Loss: 1.409057...\n",
            "Epoch: 10/100...  Loss: 0.406682...\n",
            "Epoch: 20/100...  Loss: 0.301464...\n",
            "Epoch: 30/100...  Loss: 0.230024...\n",
            "Epoch: 40/100...  Loss: 0.168378...\n",
            "Epoch: 50/100...  Loss: 0.139590...\n",
            "Epoch: 60/100...  Loss: 0.110111...\n",
            "Epoch: 70/100...  Loss: 0.082474...\n",
            "Epoch: 80/100...  Loss: 0.076510...\n",
            "Epoch: 90/100...  Loss: 0.039478...\n"
          ]
        }
      ],
      "source": [
        "for epoch in range(epochs):\n",
        "    total_epoch_loss = 0\n",
        "    for batch_features, batch_labels in train_loader:\n",
        "        batch_features, batch_labels = batch_features.to(device), batch_labels.to(\n",
        "            device\n",
        "        )\n",
        "        outputs = model(batch_features)\n",
        "        loss = criterion(outputs, batch_labels)\n",
        "\n",
        "        optimizer.zero_grad()\n",
        "\n",
        "        loss.backward()\n",
        "\n",
        "        optimizer.step()\n",
        "        total_epoch_loss += loss.item()\n",
        "\n",
        "    avg_epoch_loss = total_epoch_loss / len(train_loader)\n",
        "    if epoch % 10 == 0:\n",
        "        print(\n",
        "            \"Epoch: {}/{}... \".format(epoch, epochs),\n",
        "            \"Loss: {:.6f}...\".format(avg_epoch_loss),\n",
        "        )\n"
      ]
    },
    {
      "cell_type": "code",
      "execution_count": 18,
      "metadata": {
        "colab": {
          "base_uri": "https://localhost:8080/"
        },
        "id": "lNae9Vi1vZ0s",
        "outputId": "2a707595-cb70-4d5a-c26d-097aa3a4fc7d"
      },
      "outputs": [
        {
          "data": {
            "text/plain": [
              "MyNN(\n",
              "  (model): Sequential(\n",
              "    (0): Linear(in_features=784, out_features=128, bias=True)\n",
              "    (1): ReLU()\n",
              "    (2): Linear(in_features=128, out_features=64, bias=True)\n",
              "    (3): ReLU()\n",
              "    (4): Linear(in_features=64, out_features=10, bias=True)\n",
              "  )\n",
              ")"
            ]
          },
          "execution_count": 18,
          "metadata": {},
          "output_type": "execute_result"
        }
      ],
      "source": [
        "model.eval()\n"
      ]
    },
    {
      "cell_type": "code",
      "execution_count": 19,
      "metadata": {
        "colab": {
          "base_uri": "https://localhost:8080/"
        },
        "id": "KXhT2k8NymwJ",
        "outputId": "b98b8e09-fbc3-4c05-d4ea-9842f451397e"
      },
      "outputs": [
        {
          "name": "stdout",
          "output_type": "stream",
          "text": [
            "Accuracy of the network on the 1200 test images: 86 %\n"
          ]
        }
      ],
      "source": [
        "total = 0\n",
        "correct = 0\n",
        "\n",
        "with torch.no_grad():\n",
        "    for batch_features, batch_labels in test_loader:\n",
        "        batch_features, batch_labels = batch_features.to(device), batch_labels.to(\n",
        "            device\n",
        "        )\n",
        "        outputs = model(batch_features)\n",
        "        _, predicted = torch.max(outputs, 1)\n",
        "        total += batch_labels.shape[0]\n",
        "        correct += (predicted == batch_labels).sum().item()\n",
        "\n",
        "    print(\n",
        "        \"Accuracy of the network on the 1200 test images: %d %%\"\n",
        "        % (100 * correct / total)\n",
        "    )\n"
      ]
    },
    {
      "cell_type": "code",
      "execution_count": null,
      "metadata": {
        "id": "ZaiX-US-zZrN"
      },
      "outputs": [],
      "source": []
    }
  ],
  "metadata": {
    "accelerator": "GPU",
    "colab": {
      "gpuType": "T4",
      "provenance": []
    },
    "kernelspec": {
      "display_name": ".venv",
      "language": "python",
      "name": "python3"
    },
    "language_info": {
      "codemirror_mode": {
        "name": "ipython",
        "version": 3
      },
      "file_extension": ".py",
      "mimetype": "text/x-python",
      "name": "python",
      "nbconvert_exporter": "python",
      "pygments_lexer": "ipython3",
      "version": "3.12.5"
    }
  },
  "nbformat": 4,
  "nbformat_minor": 0
}
